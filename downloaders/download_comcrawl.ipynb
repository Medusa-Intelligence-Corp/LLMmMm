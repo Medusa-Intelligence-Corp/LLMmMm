{
 "cells": [
  {
   "cell_type": "markdown",
   "metadata": {},
   "source": [
    "comcrawl base is broken, that's why you can't just do \"pip install comcrawl\" see here https://github.com/michaelharms/comcrawl/issues/40"
   ]
  },
  {
   "cell_type": "code",
   "execution_count": 1,
   "metadata": {},
   "outputs": [
    {
     "name": "stdout",
     "output_type": "stream",
     "text": [
      "Requirement already satisfied: comcrawl from git+https://github.com/rokasramas/comcrawl.git#egg=comcrawl in /usr/local/lib/python3.8/dist-packages (1.0.2)\n",
      "Requirement already satisfied: requests<3.0.0,>=2.22.0 in /usr/local/lib/python3.8/dist-packages (from comcrawl) (2.28.1)\n",
      "Requirement already satisfied: idna<4,>=2.5 in /usr/local/lib/python3.8/dist-packages (from requests<3.0.0,>=2.22.0->comcrawl) (3.3)\n",
      "Requirement already satisfied: urllib3<1.27,>=1.21.1 in /usr/local/lib/python3.8/dist-packages (from requests<3.0.0,>=2.22.0->comcrawl) (1.26.12)\n",
      "Requirement already satisfied: certifi>=2017.4.17 in /usr/local/lib/python3.8/dist-packages (from requests<3.0.0,>=2.22.0->comcrawl) (2022.6.15)\n",
      "Requirement already satisfied: charset-normalizer<3,>=2 in /usr/local/lib/python3.8/dist-packages (from requests<3.0.0,>=2.22.0->comcrawl) (2.1.1)\n",
      "\u001b[33mWARNING: You are using pip version 20.2.4; however, version 22.3 is available.\n",
      "You should consider upgrading via the '/usr/bin/python3 -m pip install --upgrade pip' command.\u001b[0m\n",
      "Requirement already satisfied: pandas in /usr/local/lib/python3.8/dist-packages (1.5.1)\n",
      "Requirement already satisfied: python-dateutil>=2.8.1 in /usr/local/lib/python3.8/dist-packages (from pandas) (2.8.2)\n",
      "Requirement already satisfied: pytz>=2020.1 in /usr/local/lib/python3.8/dist-packages (from pandas) (2022.5)\n",
      "Requirement already satisfied: numpy>=1.20.3; python_version < \"3.10\" in /usr/local/lib/python3.8/dist-packages (from pandas) (1.23.2)\n",
      "Requirement already satisfied: six>=1.5 in /usr/local/lib/python3.8/dist-packages (from python-dateutil>=2.8.1->pandas) (1.16.0)\n",
      "\u001b[33mWARNING: You are using pip version 20.2.4; however, version 22.3 is available.\n",
      "You should consider upgrading via the '/usr/bin/python3 -m pip install --upgrade pip' command.\u001b[0m\n"
     ]
    }
   ],
   "source": [
    "!pip install git+https://github.com/rokasramas/comcrawl.git#egg=comcrawl\n",
    "!pip install pandas"
   ]
  },
  {
   "cell_type": "markdown",
   "metadata": {},
   "source": [
    "# Important Notice!\n",
    "\n",
    "If you ran ```!pip install ...```above you need to only run that cell once!\n",
    "after you run that cell you need to restart the kernel by going \"Kernel > Restart\" above or by pressing ```0```,```0```"
   ]
  },
  {
   "cell_type": "code",
   "execution_count": 2,
   "metadata": {},
   "outputs": [],
   "source": [
    "from comcrawl import IndexClient\n",
    "import pandas as pd"
   ]
  },
  {
   "cell_type": "code",
   "execution_count": 3,
   "metadata": {},
   "outputs": [],
   "source": [
    "client = IndexClient([\"2022-33\"])\n",
    "\n",
    "client.search(\"reddit.com/r/MachineLearning/*\")\n",
    "\n",
    "client.results = (pd.DataFrame(client.results)\n",
    "                  .sort_values(by=\"timestamp\")\n",
    "                  .drop_duplicates(\"urlkey\", keep=\"last\")\n",
    "                  .to_dict(\"records\"))\n",
    "\n",
    "client.download()"
   ]
  },
  {
   "cell_type": "code",
   "execution_count": 4,
   "metadata": {},
   "outputs": [],
   "source": [
    "# To save as a csv, use the line below\n",
    "# pd.DataFrame(client.results).to_csv(\"../data/results.csv\")\n",
    "\n",
    "df = pd.DataFrame(client.results)"
   ]
  },
  {
   "cell_type": "code",
   "execution_count": 5,
   "metadata": {},
   "outputs": [
    {
     "data": {
      "text/html": [
       "<div>\n",
       "<style scoped>\n",
       "    .dataframe tbody tr th:only-of-type {\n",
       "        vertical-align: middle;\n",
       "    }\n",
       "\n",
       "    .dataframe tbody tr th {\n",
       "        vertical-align: top;\n",
       "    }\n",
       "\n",
       "    .dataframe thead th {\n",
       "        text-align: right;\n",
       "    }\n",
       "</style>\n",
       "<table border=\"1\" class=\"dataframe\">\n",
       "  <thead>\n",
       "    <tr style=\"text-align: right;\">\n",
       "      <th></th>\n",
       "      <th>urlkey</th>\n",
       "      <th>timestamp</th>\n",
       "      <th>url</th>\n",
       "      <th>mime</th>\n",
       "      <th>mime-detected</th>\n",
       "      <th>status</th>\n",
       "      <th>digest</th>\n",
       "      <th>length</th>\n",
       "      <th>offset</th>\n",
       "      <th>filename</th>\n",
       "      <th>languages</th>\n",
       "      <th>encoding</th>\n",
       "      <th>redirect</th>\n",
       "      <th>html</th>\n",
       "    </tr>\n",
       "  </thead>\n",
       "  <tbody>\n",
       "    <tr>\n",
       "      <th>0</th>\n",
       "      <td>com,reddit)/r/machinelearning/comments/j1ati3/...</td>\n",
       "      <td>20220807224009</td>\n",
       "      <td>https://www.reddit.com/r/MachineLearning/comme...</td>\n",
       "      <td>text/html</td>\n",
       "      <td>text/html</td>\n",
       "      <td>200</td>\n",
       "      <td>DGTM4TNEJN7GXNQWE2FGJC5223LN5NQN</td>\n",
       "      <td>23836</td>\n",
       "      <td>837996478</td>\n",
       "      <td>crawl-data/CC-MAIN-2022-33/segments/1659882570...</td>\n",
       "      <td>eng</td>\n",
       "      <td>UTF-8</td>\n",
       "      <td>NaN</td>\n",
       "      <td>&lt;!doctype html&gt;&lt;html xmlns=\"http://www.w3.org/...</td>\n",
       "    </tr>\n",
       "    <tr>\n",
       "      <th>1</th>\n",
       "      <td>com,reddit)/r/machinelearning/comments/807ex4/...</td>\n",
       "      <td>20220807224330</td>\n",
       "      <td>https://www.reddit.com/r/MachineLearning/comme...</td>\n",
       "      <td>text/html</td>\n",
       "      <td>text/html</td>\n",
       "      <td>200</td>\n",
       "      <td>4NB3DDC3SNC3WKK4D233GHAZBEEIH2NE</td>\n",
       "      <td>34095</td>\n",
       "      <td>856988022</td>\n",
       "      <td>crawl-data/CC-MAIN-2022-33/segments/1659882570...</td>\n",
       "      <td>eng</td>\n",
       "      <td>UTF-8</td>\n",
       "      <td>NaN</td>\n",
       "      <td>&lt;!doctype html&gt;&lt;html xmlns=\"http://www.w3.org/...</td>\n",
       "    </tr>\n",
       "    <tr>\n",
       "      <th>2</th>\n",
       "      <td>com,reddit)/r/machinelearning/comments/cfxpxy/...</td>\n",
       "      <td>20220808034429</td>\n",
       "      <td>https://www.reddit.com/r/MachineLearning/comme...</td>\n",
       "      <td>text/html</td>\n",
       "      <td>text/html</td>\n",
       "      <td>200</td>\n",
       "      <td>ADWBO3P7RFUH5R25QXGVU3YQPI6WPSCI</td>\n",
       "      <td>33711</td>\n",
       "      <td>850157573</td>\n",
       "      <td>crawl-data/CC-MAIN-2022-33/segments/1659882570...</td>\n",
       "      <td>eng</td>\n",
       "      <td>UTF-8</td>\n",
       "      <td>NaN</td>\n",
       "      <td>&lt;!doctype html&gt;&lt;html xmlns=\"http://www.w3.org/...</td>\n",
       "    </tr>\n",
       "    <tr>\n",
       "      <th>3</th>\n",
       "      <td>com,reddit)/r/machinelearning/comments/vmwiep/...</td>\n",
       "      <td>20220808135741</td>\n",
       "      <td>https://www.reddit.com/r/MachineLearning/comme...</td>\n",
       "      <td>text/html</td>\n",
       "      <td>text/html</td>\n",
       "      <td>200</td>\n",
       "      <td>4TXMAS55K6CRACQNSSM6MTECICOHFLFQ</td>\n",
       "      <td>19877</td>\n",
       "      <td>855966452</td>\n",
       "      <td>crawl-data/CC-MAIN-2022-33/segments/1659882570...</td>\n",
       "      <td>eng</td>\n",
       "      <td>UTF-8</td>\n",
       "      <td>NaN</td>\n",
       "      <td>&lt;!doctype html&gt;&lt;html xmlns=\"http://www.w3.org/...</td>\n",
       "    </tr>\n",
       "    <tr>\n",
       "      <th>4</th>\n",
       "      <td>com,reddit)/r/machinelearning/comments/vnxhww/...</td>\n",
       "      <td>20220808141038</td>\n",
       "      <td>https://www.reddit.com/r/MachineLearning/comme...</td>\n",
       "      <td>text/html</td>\n",
       "      <td>text/html</td>\n",
       "      <td>200</td>\n",
       "      <td>L275MXCVWJ7CYJHZHBRGYMRM6TKIBSTE</td>\n",
       "      <td>19806</td>\n",
       "      <td>852928747</td>\n",
       "      <td>crawl-data/CC-MAIN-2022-33/segments/1659882570...</td>\n",
       "      <td>eng</td>\n",
       "      <td>UTF-8</td>\n",
       "      <td>NaN</td>\n",
       "      <td>&lt;!doctype html&gt;&lt;html xmlns=\"http://www.w3.org/...</td>\n",
       "    </tr>\n",
       "  </tbody>\n",
       "</table>\n",
       "</div>"
      ],
      "text/plain": [
       "                                              urlkey       timestamp  \\\n",
       "0  com,reddit)/r/machinelearning/comments/j1ati3/...  20220807224009   \n",
       "1  com,reddit)/r/machinelearning/comments/807ex4/...  20220807224330   \n",
       "2  com,reddit)/r/machinelearning/comments/cfxpxy/...  20220808034429   \n",
       "3  com,reddit)/r/machinelearning/comments/vmwiep/...  20220808135741   \n",
       "4  com,reddit)/r/machinelearning/comments/vnxhww/...  20220808141038   \n",
       "\n",
       "                                                 url       mime mime-detected  \\\n",
       "0  https://www.reddit.com/r/MachineLearning/comme...  text/html     text/html   \n",
       "1  https://www.reddit.com/r/MachineLearning/comme...  text/html     text/html   \n",
       "2  https://www.reddit.com/r/MachineLearning/comme...  text/html     text/html   \n",
       "3  https://www.reddit.com/r/MachineLearning/comme...  text/html     text/html   \n",
       "4  https://www.reddit.com/r/MachineLearning/comme...  text/html     text/html   \n",
       "\n",
       "  status                            digest length     offset  \\\n",
       "0    200  DGTM4TNEJN7GXNQWE2FGJC5223LN5NQN  23836  837996478   \n",
       "1    200  4NB3DDC3SNC3WKK4D233GHAZBEEIH2NE  34095  856988022   \n",
       "2    200  ADWBO3P7RFUH5R25QXGVU3YQPI6WPSCI  33711  850157573   \n",
       "3    200  4TXMAS55K6CRACQNSSM6MTECICOHFLFQ  19877  855966452   \n",
       "4    200  L275MXCVWJ7CYJHZHBRGYMRM6TKIBSTE  19806  852928747   \n",
       "\n",
       "                                            filename languages encoding  \\\n",
       "0  crawl-data/CC-MAIN-2022-33/segments/1659882570...       eng    UTF-8   \n",
       "1  crawl-data/CC-MAIN-2022-33/segments/1659882570...       eng    UTF-8   \n",
       "2  crawl-data/CC-MAIN-2022-33/segments/1659882570...       eng    UTF-8   \n",
       "3  crawl-data/CC-MAIN-2022-33/segments/1659882570...       eng    UTF-8   \n",
       "4  crawl-data/CC-MAIN-2022-33/segments/1659882570...       eng    UTF-8   \n",
       "\n",
       "  redirect                                               html  \n",
       "0      NaN  <!doctype html><html xmlns=\"http://www.w3.org/...  \n",
       "1      NaN  <!doctype html><html xmlns=\"http://www.w3.org/...  \n",
       "2      NaN  <!doctype html><html xmlns=\"http://www.w3.org/...  \n",
       "3      NaN  <!doctype html><html xmlns=\"http://www.w3.org/...  \n",
       "4      NaN  <!doctype html><html xmlns=\"http://www.w3.org/...  "
      ]
     },
     "execution_count": 5,
     "metadata": {},
     "output_type": "execute_result"
    }
   ],
   "source": [
    "df.head()"
   ]
  },
  {
   "cell_type": "code",
   "execution_count": null,
   "metadata": {},
   "outputs": [],
   "source": []
  }
 ],
 "metadata": {
  "kernelspec": {
   "display_name": "Python 3",
   "language": "python",
   "name": "python3"
  },
  "language_info": {
   "codemirror_mode": {
    "name": "ipython",
    "version": 3
   },
   "file_extension": ".py",
   "mimetype": "text/x-python",
   "name": "python",
   "nbconvert_exporter": "python",
   "pygments_lexer": "ipython3",
   "version": "3.8.10"
  }
 },
 "nbformat": 4,
 "nbformat_minor": 2
}
