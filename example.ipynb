{
 "cells": [
  {
   "cell_type": "markdown",
   "id": "50936be5-969f-41cd-b9f4-1ea636642009",
   "metadata": {},
   "source": [
    "# Setup"
   ]
  },
  {
   "cell_type": "code",
   "execution_count": 1,
   "id": "071918e7-d672-456c-bc25-0958e499f836",
   "metadata": {},
   "outputs": [],
   "source": [
    "import os\n",
    "import pandas as pd\n",
    "\n",
    "from pprint import pprint\n",
    "\n",
    "from sklearn.metrics import accuracy_score\n",
    "\n",
    "from skllm import MultiLabelZeroShotGPTClassifier\n",
    "from skllm.config import SKLLMConfig"
   ]
  },
  {
   "cell_type": "code",
   "execution_count": 2,
   "id": "00c27fb1-a5f1-428c-95f0-14c1b62abf53",
   "metadata": {},
   "outputs": [],
   "source": [
    "#See notes in INSTALL.md for how to set this, DO NOT HARD CODE YOUR API KEY HERE, \n",
    "# if your repository is public, then someone will steal your API key and make you pay for their shit \n",
    "SKLLMConfig.set_openai_key(os.environ.get('OPENAI_API_KEY'))"
   ]
  },
  {
   "cell_type": "markdown",
   "id": "c5129b91-8cbc-4359-bf2a-dc8d5e00f6ed",
   "metadata": {},
   "source": [
    "# Collect a Dataset"
   ]
  },
  {
   "cell_type": "code",
   "execution_count": 3,
   "id": "ee817bca-c736-474b-be1f-c9034e7780f9",
   "metadata": {},
   "outputs": [],
   "source": [
    "# Load the Reddit life tips dataset\n",
    "data = pd.read_csv('data/helpfulRedditPosts.csv')"
   ]
  },
  {
   "cell_type": "markdown",
   "id": "923dc7af-b409-44b7-a1f1-cae37154cf81",
   "metadata": {},
   "source": [
    "# Understand Your Data"
   ]
  },
  {
   "cell_type": "code",
   "execution_count": 4,
   "id": "bae5d63e-1a2b-4173-8831-330451b7c5c5",
   "metadata": {},
   "outputs": [
    {
     "data": {
      "text/html": [
       "<div>\n",
       "<style scoped>\n",
       "    .dataframe tbody tr th:only-of-type {\n",
       "        vertical-align: middle;\n",
       "    }\n",
       "\n",
       "    .dataframe tbody tr th {\n",
       "        vertical-align: top;\n",
       "    }\n",
       "\n",
       "    .dataframe thead th {\n",
       "        text-align: right;\n",
       "    }\n",
       "</style>\n",
       "<table border=\"1\" class=\"dataframe\">\n",
       "  <thead>\n",
       "    <tr style=\"text-align: right;\">\n",
       "      <th></th>\n",
       "      <th>id</th>\n",
       "      <th>author</th>\n",
       "      <th>isOver18</th>\n",
       "      <th>postUrl</th>\n",
       "      <th>subreddit</th>\n",
       "      <th>postTitle</th>\n",
       "      <th>hasPostBody</th>\n",
       "      <th>postBody</th>\n",
       "      <th>score</th>\n",
       "      <th>numComments</th>\n",
       "      <th>Unnamed: 10</th>\n",
       "      <th>Unnamed: 11</th>\n",
       "      <th>Unnamed: 12</th>\n",
       "      <th>Unnamed: 13</th>\n",
       "      <th>Unnamed: 14</th>\n",
       "      <th>HumanLabel</th>\n",
       "    </tr>\n",
       "  </thead>\n",
       "  <tbody>\n",
       "    <tr>\n",
       "      <th>0</th>\n",
       "      <td>f6jt5e</td>\n",
       "      <td>w2555</td>\n",
       "      <td>False</td>\n",
       "      <td>https://reddit.com/r/LifeProTips/comments/f6jt5e/</td>\n",
       "      <td>LifeProTips</td>\n",
       "      <td>LPT: keep your mouth shut, and don't volunteer...</td>\n",
       "      <td>True</td>\n",
       "      <td>I had a phone interview scheduled this morning...</td>\n",
       "      <td>147296</td>\n",
       "      <td>4730</td>\n",
       "      <td>NaN</td>\n",
       "      <td>NaN</td>\n",
       "      <td>NaN</td>\n",
       "      <td>NaN</td>\n",
       "      <td>NaN</td>\n",
       "      <td>['Work']</td>\n",
       "    </tr>\n",
       "    <tr>\n",
       "      <th>1</th>\n",
       "      <td>lq1jn7</td>\n",
       "      <td>this1tyme</td>\n",
       "      <td>False</td>\n",
       "      <td>https://reddit.com/r/LifeProTips/comments/lq1jn7/</td>\n",
       "      <td>LifeProTips</td>\n",
       "      <td>LPT: Texans, you are about to experience the w...</td>\n",
       "      <td>False</td>\n",
       "      <td>NaN</td>\n",
       "      <td>134320</td>\n",
       "      <td>4121</td>\n",
       "      <td>NaN</td>\n",
       "      <td>NaN</td>\n",
       "      <td>NaN</td>\n",
       "      <td>NaN</td>\n",
       "      <td>NaN</td>\n",
       "      <td>['Other']</td>\n",
       "    </tr>\n",
       "    <tr>\n",
       "      <th>2</th>\n",
       "      <td>j2mm1b</td>\n",
       "      <td>raviji22</td>\n",
       "      <td>False</td>\n",
       "      <td>https://reddit.com/r/LifeProTips/comments/j2mm1b/</td>\n",
       "      <td>LifeProTips</td>\n",
       "      <td>LPT: When you sign up for anything online, put...</td>\n",
       "      <td>False</td>\n",
       "      <td>NaN</td>\n",
       "      <td>129513</td>\n",
       "      <td>1971</td>\n",
       "      <td>NaN</td>\n",
       "      <td>NaN</td>\n",
       "      <td>NaN</td>\n",
       "      <td>NaN</td>\n",
       "      <td>NaN</td>\n",
       "      <td>['Other']</td>\n",
       "    </tr>\n",
       "    <tr>\n",
       "      <th>3</th>\n",
       "      <td>fqkkke</td>\n",
       "      <td>[deleted]</td>\n",
       "      <td>False</td>\n",
       "      <td>https://reddit.com/r/LifeProTips/comments/fqkkke/</td>\n",
       "      <td>LifeProTips</td>\n",
       "      <td>LPT: First rule of family gatherings, always b...</td>\n",
       "      <td>True</td>\n",
       "      <td>[deleted]</td>\n",
       "      <td>124219</td>\n",
       "      <td>2762</td>\n",
       "      <td>NaN</td>\n",
       "      <td>NaN</td>\n",
       "      <td>NaN</td>\n",
       "      <td>NaN</td>\n",
       "      <td>NaN</td>\n",
       "      <td>['Family']</td>\n",
       "    </tr>\n",
       "    <tr>\n",
       "      <th>4</th>\n",
       "      <td>gmmiah</td>\n",
       "      <td>AlphaSyncz</td>\n",
       "      <td>False</td>\n",
       "      <td>https://reddit.com/r/YouShouldKnow/comments/gm...</td>\n",
       "      <td>YouShouldKnow</td>\n",
       "      <td>YSK That there is a Youtuber called \"Dad, how ...</td>\n",
       "      <td>True</td>\n",
       "      <td>It's just basic stuff but I know friends of mi...</td>\n",
       "      <td>120038</td>\n",
       "      <td>1532</td>\n",
       "      <td>NaN</td>\n",
       "      <td>NaN</td>\n",
       "      <td>NaN</td>\n",
       "      <td>NaN</td>\n",
       "      <td>NaN</td>\n",
       "      <td>['Family']</td>\n",
       "    </tr>\n",
       "  </tbody>\n",
       "</table>\n",
       "</div>"
      ],
      "text/plain": [
       "       id      author  isOver18  \\\n",
       "0  f6jt5e       w2555     False   \n",
       "1  lq1jn7   this1tyme     False   \n",
       "2  j2mm1b    raviji22     False   \n",
       "3  fqkkke   [deleted]     False   \n",
       "4  gmmiah  AlphaSyncz     False   \n",
       "\n",
       "                                             postUrl      subreddit  \\\n",
       "0  https://reddit.com/r/LifeProTips/comments/f6jt5e/    LifeProTips   \n",
       "1  https://reddit.com/r/LifeProTips/comments/lq1jn7/    LifeProTips   \n",
       "2  https://reddit.com/r/LifeProTips/comments/j2mm1b/    LifeProTips   \n",
       "3  https://reddit.com/r/LifeProTips/comments/fqkkke/    LifeProTips   \n",
       "4  https://reddit.com/r/YouShouldKnow/comments/gm...  YouShouldKnow   \n",
       "\n",
       "                                           postTitle  hasPostBody  \\\n",
       "0  LPT: keep your mouth shut, and don't volunteer...         True   \n",
       "1  LPT: Texans, you are about to experience the w...        False   \n",
       "2  LPT: When you sign up for anything online, put...        False   \n",
       "3  LPT: First rule of family gatherings, always b...         True   \n",
       "4  YSK That there is a Youtuber called \"Dad, how ...         True   \n",
       "\n",
       "                                            postBody   score  numComments  \\\n",
       "0  I had a phone interview scheduled this morning...  147296         4730   \n",
       "1                                                NaN  134320         4121   \n",
       "2                                                NaN  129513         1971   \n",
       "3                                          [deleted]  124219         2762   \n",
       "4  It's just basic stuff but I know friends of mi...  120038         1532   \n",
       "\n",
       "   Unnamed: 10  Unnamed: 11  Unnamed: 12  Unnamed: 13  Unnamed: 14  HumanLabel  \n",
       "0          NaN          NaN          NaN          NaN          NaN    ['Work']  \n",
       "1          NaN          NaN          NaN          NaN          NaN   ['Other']  \n",
       "2          NaN          NaN          NaN          NaN          NaN   ['Other']  \n",
       "3          NaN          NaN          NaN          NaN          NaN  ['Family']  \n",
       "4          NaN          NaN          NaN          NaN          NaN  ['Family']  "
      ]
     },
     "execution_count": 4,
     "metadata": {},
     "output_type": "execute_result"
    }
   ],
   "source": [
    "data.head()"
   ]
  },
  {
   "cell_type": "code",
   "execution_count": 5,
   "id": "6bea9e4e-af8a-40ee-9a12-5b9dc3d73fc0",
   "metadata": {},
   "outputs": [
    {
     "data": {
      "text/html": [
       "<div>\n",
       "<style scoped>\n",
       "    .dataframe tbody tr th:only-of-type {\n",
       "        vertical-align: middle;\n",
       "    }\n",
       "\n",
       "    .dataframe tbody tr th {\n",
       "        vertical-align: top;\n",
       "    }\n",
       "\n",
       "    .dataframe thead th {\n",
       "        text-align: right;\n",
       "    }\n",
       "</style>\n",
       "<table border=\"1\" class=\"dataframe\">\n",
       "  <thead>\n",
       "    <tr style=\"text-align: right;\">\n",
       "      <th></th>\n",
       "      <th>score</th>\n",
       "      <th>numComments</th>\n",
       "      <th>Unnamed: 10</th>\n",
       "      <th>Unnamed: 11</th>\n",
       "      <th>Unnamed: 12</th>\n",
       "      <th>Unnamed: 13</th>\n",
       "      <th>Unnamed: 14</th>\n",
       "    </tr>\n",
       "  </thead>\n",
       "  <tbody>\n",
       "    <tr>\n",
       "      <th>count</th>\n",
       "      <td>9.000000</td>\n",
       "      <td>9.000000</td>\n",
       "      <td>0.0</td>\n",
       "      <td>0.0</td>\n",
       "      <td>0.0</td>\n",
       "      <td>0.0</td>\n",
       "      <td>0.0</td>\n",
       "    </tr>\n",
       "    <tr>\n",
       "      <th>mean</th>\n",
       "      <td>125228.444444</td>\n",
       "      <td>2604.222222</td>\n",
       "      <td>NaN</td>\n",
       "      <td>NaN</td>\n",
       "      <td>NaN</td>\n",
       "      <td>NaN</td>\n",
       "      <td>NaN</td>\n",
       "    </tr>\n",
       "    <tr>\n",
       "      <th>std</th>\n",
       "      <td>10248.934592</td>\n",
       "      <td>1217.272954</td>\n",
       "      <td>NaN</td>\n",
       "      <td>NaN</td>\n",
       "      <td>NaN</td>\n",
       "      <td>NaN</td>\n",
       "      <td>NaN</td>\n",
       "    </tr>\n",
       "    <tr>\n",
       "      <th>min</th>\n",
       "      <td>115511.000000</td>\n",
       "      <td>964.000000</td>\n",
       "      <td>NaN</td>\n",
       "      <td>NaN</td>\n",
       "      <td>NaN</td>\n",
       "      <td>NaN</td>\n",
       "      <td>NaN</td>\n",
       "    </tr>\n",
       "    <tr>\n",
       "      <th>25%</th>\n",
       "      <td>118582.000000</td>\n",
       "      <td>1792.000000</td>\n",
       "      <td>NaN</td>\n",
       "      <td>NaN</td>\n",
       "      <td>NaN</td>\n",
       "      <td>NaN</td>\n",
       "      <td>NaN</td>\n",
       "    </tr>\n",
       "    <tr>\n",
       "      <th>50%</th>\n",
       "      <td>120038.000000</td>\n",
       "      <td>2633.000000</td>\n",
       "      <td>NaN</td>\n",
       "      <td>NaN</td>\n",
       "      <td>NaN</td>\n",
       "      <td>NaN</td>\n",
       "      <td>NaN</td>\n",
       "    </tr>\n",
       "    <tr>\n",
       "      <th>75%</th>\n",
       "      <td>129513.000000</td>\n",
       "      <td>2933.000000</td>\n",
       "      <td>NaN</td>\n",
       "      <td>NaN</td>\n",
       "      <td>NaN</td>\n",
       "      <td>NaN</td>\n",
       "      <td>NaN</td>\n",
       "    </tr>\n",
       "    <tr>\n",
       "      <th>max</th>\n",
       "      <td>147296.000000</td>\n",
       "      <td>4730.000000</td>\n",
       "      <td>NaN</td>\n",
       "      <td>NaN</td>\n",
       "      <td>NaN</td>\n",
       "      <td>NaN</td>\n",
       "      <td>NaN</td>\n",
       "    </tr>\n",
       "  </tbody>\n",
       "</table>\n",
       "</div>"
      ],
      "text/plain": [
       "               score  numComments  Unnamed: 10  Unnamed: 11  Unnamed: 12  \\\n",
       "count       9.000000     9.000000          0.0          0.0          0.0   \n",
       "mean   125228.444444  2604.222222          NaN          NaN          NaN   \n",
       "std     10248.934592  1217.272954          NaN          NaN          NaN   \n",
       "min    115511.000000   964.000000          NaN          NaN          NaN   \n",
       "25%    118582.000000  1792.000000          NaN          NaN          NaN   \n",
       "50%    120038.000000  2633.000000          NaN          NaN          NaN   \n",
       "75%    129513.000000  2933.000000          NaN          NaN          NaN   \n",
       "max    147296.000000  4730.000000          NaN          NaN          NaN   \n",
       "\n",
       "       Unnamed: 13  Unnamed: 14  \n",
       "count          0.0          0.0  \n",
       "mean           NaN          NaN  \n",
       "std            NaN          NaN  \n",
       "min            NaN          NaN  \n",
       "25%            NaN          NaN  \n",
       "50%            NaN          NaN  \n",
       "75%            NaN          NaN  \n",
       "max            NaN          NaN  "
      ]
     },
     "execution_count": 5,
     "metadata": {},
     "output_type": "execute_result"
    }
   ],
   "source": [
    "data.describe()"
   ]
  },
  {
   "cell_type": "code",
   "execution_count": 6,
   "id": "218e1acd-a5cf-4caf-98ee-aef5d5b60479",
   "metadata": {},
   "outputs": [],
   "source": [
    "X = data['postTitle']"
   ]
  },
  {
   "cell_type": "code",
   "execution_count": 7,
   "id": "2aa94aca-fb96-4217-9a8e-456bb8ea7a91",
   "metadata": {},
   "outputs": [
    {
     "data": {
      "text/plain": [
       "0    LPT: keep your mouth shut, and don't volunteer...\n",
       "1    LPT: Texans, you are about to experience the w...\n",
       "2    LPT: When you sign up for anything online, put...\n",
       "3    LPT: First rule of family gatherings, always b...\n",
       "4    YSK That there is a Youtuber called \"Dad, how ...\n",
       "5    LPT: Try not to be mean or toxic in online gam...\n",
       "6    LPT: Always tell a child who is wearing a helm...\n",
       "7    LPT: If you want a smarter kid, teach your chi...\n",
       "8    LPT: Don't be fooled by the \"working for a dre...\n",
       "Name: postTitle, dtype: object"
      ]
     },
     "execution_count": 7,
     "metadata": {},
     "output_type": "execute_result"
    }
   ],
   "source": [
    "X"
   ]
  },
  {
   "cell_type": "markdown",
   "id": "3e6f108b-5bc1-4ec3-992d-7c14c3512e0d",
   "metadata": {},
   "source": [
    "# \"Develop\" a Model aka just use OpenAI's API"
   ]
  },
  {
   "cell_type": "code",
   "execution_count": 8,
   "id": "6f7be18d-5fd4-41b1-aa4d-cabeb14943a2",
   "metadata": {},
   "outputs": [
    {
     "data": {
      "text/html": [
       "<style>#sk-container-id-1 {color: black;}#sk-container-id-1 pre{padding: 0;}#sk-container-id-1 div.sk-toggleable {background-color: white;}#sk-container-id-1 label.sk-toggleable__label {cursor: pointer;display: block;width: 100%;margin-bottom: 0;padding: 0.3em;box-sizing: border-box;text-align: center;}#sk-container-id-1 label.sk-toggleable__label-arrow:before {content: \"▸\";float: left;margin-right: 0.25em;color: #696969;}#sk-container-id-1 label.sk-toggleable__label-arrow:hover:before {color: black;}#sk-container-id-1 div.sk-estimator:hover label.sk-toggleable__label-arrow:before {color: black;}#sk-container-id-1 div.sk-toggleable__content {max-height: 0;max-width: 0;overflow: hidden;text-align: left;background-color: #f0f8ff;}#sk-container-id-1 div.sk-toggleable__content pre {margin: 0.2em;color: black;border-radius: 0.25em;background-color: #f0f8ff;}#sk-container-id-1 input.sk-toggleable__control:checked~div.sk-toggleable__content {max-height: 200px;max-width: 100%;overflow: auto;}#sk-container-id-1 input.sk-toggleable__control:checked~label.sk-toggleable__label-arrow:before {content: \"▾\";}#sk-container-id-1 div.sk-estimator input.sk-toggleable__control:checked~label.sk-toggleable__label {background-color: #d4ebff;}#sk-container-id-1 div.sk-label input.sk-toggleable__control:checked~label.sk-toggleable__label {background-color: #d4ebff;}#sk-container-id-1 input.sk-hidden--visually {border: 0;clip: rect(1px 1px 1px 1px);clip: rect(1px, 1px, 1px, 1px);height: 1px;margin: -1px;overflow: hidden;padding: 0;position: absolute;width: 1px;}#sk-container-id-1 div.sk-estimator {font-family: monospace;background-color: #f0f8ff;border: 1px dotted black;border-radius: 0.25em;box-sizing: border-box;margin-bottom: 0.5em;}#sk-container-id-1 div.sk-estimator:hover {background-color: #d4ebff;}#sk-container-id-1 div.sk-parallel-item::after {content: \"\";width: 100%;border-bottom: 1px solid gray;flex-grow: 1;}#sk-container-id-1 div.sk-label:hover label.sk-toggleable__label {background-color: #d4ebff;}#sk-container-id-1 div.sk-serial::before {content: \"\";position: absolute;border-left: 1px solid gray;box-sizing: border-box;top: 0;bottom: 0;left: 50%;z-index: 0;}#sk-container-id-1 div.sk-serial {display: flex;flex-direction: column;align-items: center;background-color: white;padding-right: 0.2em;padding-left: 0.2em;position: relative;}#sk-container-id-1 div.sk-item {position: relative;z-index: 1;}#sk-container-id-1 div.sk-parallel {display: flex;align-items: stretch;justify-content: center;background-color: white;position: relative;}#sk-container-id-1 div.sk-item::before, #sk-container-id-1 div.sk-parallel-item::before {content: \"\";position: absolute;border-left: 1px solid gray;box-sizing: border-box;top: 0;bottom: 0;left: 50%;z-index: -1;}#sk-container-id-1 div.sk-parallel-item {display: flex;flex-direction: column;z-index: 1;position: relative;background-color: white;}#sk-container-id-1 div.sk-parallel-item:first-child::after {align-self: flex-end;width: 50%;}#sk-container-id-1 div.sk-parallel-item:last-child::after {align-self: flex-start;width: 50%;}#sk-container-id-1 div.sk-parallel-item:only-child::after {width: 0;}#sk-container-id-1 div.sk-dashed-wrapped {border: 1px dashed gray;margin: 0 0.4em 0.5em 0.4em;box-sizing: border-box;padding-bottom: 0.4em;background-color: white;}#sk-container-id-1 div.sk-label label {font-family: monospace;font-weight: bold;display: inline-block;line-height: 1.2em;}#sk-container-id-1 div.sk-label-container {text-align: center;}#sk-container-id-1 div.sk-container {/* jupyter's `normalize.less` sets `[hidden] { display: none; }` but bootstrap.min.css set `[hidden] { display: none !important; }` so we also need the `!important` here to be able to override the default hidden behavior on the sphinx rendered scikit-learn.org. See: https://github.com/scikit-learn/scikit-learn/issues/21755 */display: inline-block !important;position: relative;}#sk-container-id-1 div.sk-text-repr-fallback {display: none;}</style><div id=\"sk-container-id-1\" class=\"sk-top-container\"><div class=\"sk-text-repr-fallback\"><pre>MultiLabelZeroShotGPTClassifier(max_labels=2)</pre><b>In a Jupyter environment, please rerun this cell to show the HTML representation or trust the notebook. <br />On GitHub, the HTML representation is unable to render, please try loading this page with nbviewer.org.</b></div><div class=\"sk-container\" hidden><div class=\"sk-item\"><div class=\"sk-estimator sk-toggleable\"><input class=\"sk-toggleable__control sk-hidden--visually\" id=\"sk-estimator-id-1\" type=\"checkbox\" checked><label for=\"sk-estimator-id-1\" class=\"sk-toggleable__label sk-toggleable__label-arrow\">MultiLabelZeroShotGPTClassifier</label><div class=\"sk-toggleable__content\"><pre>MultiLabelZeroShotGPTClassifier(max_labels=2)</pre></div></div></div></div></div>"
      ],
      "text/plain": [
       "MultiLabelZeroShotGPTClassifier(max_labels=2)"
      ]
     },
     "execution_count": 8,
     "metadata": {},
     "output_type": "execute_result"
    }
   ],
   "source": [
    "# Define candidate labels\n",
    "candidate_labels = [\n",
    "    \"Work\",\n",
    "    \"Family\",\n",
    "    \"Other\"\n",
    "]\n",
    "\n",
    "# Create and fit the classifier\n",
    "clf = MultiLabelZeroShotGPTClassifier(max_labels=2) \n",
    "clf.fit(None, [candidate_labels])"
   ]
  },
  {
   "cell_type": "code",
   "execution_count": 9,
   "id": "d9c26536-06f5-46ea-bc8f-20f63a7aaecd",
   "metadata": {},
   "outputs": [
    {
     "name": "stderr",
     "output_type": "stream",
     "text": [
      "100%|████████████████████████████████████████████████████████████| 9/9 [00:13<00:00,  1.46s/it]\n"
     ]
    }
   ],
   "source": [
    "# Predict the labels\n",
    "labels = clf.predict(X)"
   ]
  },
  {
   "cell_type": "code",
   "execution_count": 10,
   "id": "d836021a-5fb9-494a-bd15-0ab19a02efa5",
   "metadata": {},
   "outputs": [],
   "source": [
    "# Add labels to the dataset and save\n",
    "data['ChatGPTLabel'] = labels\n",
    "data.to_csv('data/classified_tips.csv', index=False)"
   ]
  },
  {
   "cell_type": "markdown",
   "id": "782d5e63-3e5e-4b4f-9d73-a3d43401169b",
   "metadata": {},
   "source": [
    "# Choose a measure of success, Choose an evaluation protocol / evaluate"
   ]
  },
  {
   "cell_type": "code",
   "execution_count": 11,
   "id": "20ace555-e39f-47af-9818-7552ccfdbf53",
   "metadata": {},
   "outputs": [],
   "source": [
    "# remove some schmutz from the labels, don't worry about what this does for now\n",
    "data['HumanLabel'] = data['HumanLabel'].str.extract(r\"\\['(.*?)'\\]\")\n",
    "data['ChatGPTLabel'] = data['ChatGPTLabel'].apply(lambda x: x[0] if x else None)"
   ]
  },
  {
   "cell_type": "code",
   "execution_count": 12,
   "id": "124a5050-aeca-4690-990d-affb41c2c43c",
   "metadata": {},
   "outputs": [
    {
     "data": {
      "text/html": [
       "<div>\n",
       "<style scoped>\n",
       "    .dataframe tbody tr th:only-of-type {\n",
       "        vertical-align: middle;\n",
       "    }\n",
       "\n",
       "    .dataframe tbody tr th {\n",
       "        vertical-align: top;\n",
       "    }\n",
       "\n",
       "    .dataframe thead th {\n",
       "        text-align: right;\n",
       "    }\n",
       "</style>\n",
       "<table border=\"1\" class=\"dataframe\">\n",
       "  <thead>\n",
       "    <tr style=\"text-align: right;\">\n",
       "      <th></th>\n",
       "      <th>postTitle</th>\n",
       "      <th>ChatGPTLabel</th>\n",
       "      <th>HumanLabel</th>\n",
       "    </tr>\n",
       "  </thead>\n",
       "  <tbody>\n",
       "    <tr>\n",
       "      <th>0</th>\n",
       "      <td>LPT: keep your mouth shut, and don't volunteer...</td>\n",
       "      <td>Work</td>\n",
       "      <td>Work</td>\n",
       "    </tr>\n",
       "    <tr>\n",
       "      <th>1</th>\n",
       "      <td>LPT: Texans, you are about to experience the w...</td>\n",
       "      <td>Other</td>\n",
       "      <td>Other</td>\n",
       "    </tr>\n",
       "    <tr>\n",
       "      <th>2</th>\n",
       "      <td>LPT: When you sign up for anything online, put...</td>\n",
       "      <td>Other</td>\n",
       "      <td>Other</td>\n",
       "    </tr>\n",
       "    <tr>\n",
       "      <th>3</th>\n",
       "      <td>LPT: First rule of family gatherings, always b...</td>\n",
       "      <td>Family</td>\n",
       "      <td>Family</td>\n",
       "    </tr>\n",
       "    <tr>\n",
       "      <th>4</th>\n",
       "      <td>YSK That there is a Youtuber called \"Dad, how ...</td>\n",
       "      <td>Family</td>\n",
       "      <td>Family</td>\n",
       "    </tr>\n",
       "    <tr>\n",
       "      <th>5</th>\n",
       "      <td>LPT: Try not to be mean or toxic in online gam...</td>\n",
       "      <td>Other</td>\n",
       "      <td>Family</td>\n",
       "    </tr>\n",
       "    <tr>\n",
       "      <th>6</th>\n",
       "      <td>LPT: Always tell a child who is wearing a helm...</td>\n",
       "      <td>Family</td>\n",
       "      <td>Family</td>\n",
       "    </tr>\n",
       "    <tr>\n",
       "      <th>7</th>\n",
       "      <td>LPT: If you want a smarter kid, teach your chi...</td>\n",
       "      <td>Family</td>\n",
       "      <td>Family</td>\n",
       "    </tr>\n",
       "    <tr>\n",
       "      <th>8</th>\n",
       "      <td>LPT: Don't be fooled by the \"working for a dre...</td>\n",
       "      <td>Work</td>\n",
       "      <td>Work</td>\n",
       "    </tr>\n",
       "  </tbody>\n",
       "</table>\n",
       "</div>"
      ],
      "text/plain": [
       "                                           postTitle ChatGPTLabel HumanLabel\n",
       "0  LPT: keep your mouth shut, and don't volunteer...         Work       Work\n",
       "1  LPT: Texans, you are about to experience the w...        Other      Other\n",
       "2  LPT: When you sign up for anything online, put...        Other      Other\n",
       "3  LPT: First rule of family gatherings, always b...       Family     Family\n",
       "4  YSK That there is a Youtuber called \"Dad, how ...       Family     Family\n",
       "5  LPT: Try not to be mean or toxic in online gam...        Other     Family\n",
       "6  LPT: Always tell a child who is wearing a helm...       Family     Family\n",
       "7  LPT: If you want a smarter kid, teach your chi...       Family     Family\n",
       "8  LPT: Don't be fooled by the \"working for a dre...         Work       Work"
      ]
     },
     "execution_count": 12,
     "metadata": {},
     "output_type": "execute_result"
    }
   ],
   "source": [
    "data[[\"postTitle\",\"ChatGPTLabel\",\"HumanLabel\"]]"
   ]
  },
  {
   "cell_type": "code",
   "execution_count": 13,
   "id": "87f4c4d6-c197-4666-8de8-dda3b376ec85",
   "metadata": {},
   "outputs": [
    {
     "name": "stdout",
     "output_type": "stream",
     "text": [
      "0.8888888888888888\n"
     ]
    }
   ],
   "source": [
    "accuracy = accuracy_score(data[[\"HumanLabel\"]], data[[\"ChatGPTLabel\"]])\n",
    "print(accuracy)"
   ]
  },
  {
   "cell_type": "markdown",
   "id": "8d7dd10a-5fc6-4359-b23a-563fa0b33f9b",
   "metadata": {},
   "source": [
    "# Skipped Steps\n",
    "* Beat a baseline\n",
    "* Overfit, regularize and tune\n",
    "* Communicate with stakeholders\n",
    "* Ship an inference model\n",
    "* Monitor and maintain"
   ]
  },
  {
   "cell_type": "code",
   "execution_count": null,
   "id": "bdd1c3eb-6af3-4d6d-992c-13fb476cc373",
   "metadata": {},
   "outputs": [],
   "source": []
  }
 ],
 "metadata": {
  "kernelspec": {
   "display_name": "Python 3 (ipykernel)",
   "language": "python",
   "name": "python3"
  },
  "language_info": {
   "codemirror_mode": {
    "name": "ipython",
    "version": 3
   },
   "file_extension": ".py",
   "mimetype": "text/x-python",
   "name": "python",
   "nbconvert_exporter": "python",
   "pygments_lexer": "ipython3",
   "version": "3.10.13"
  }
 },
 "nbformat": 4,
 "nbformat_minor": 5
}
